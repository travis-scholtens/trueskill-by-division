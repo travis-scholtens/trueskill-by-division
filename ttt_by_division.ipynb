{
  "nbformat": 4,
  "nbformat_minor": 0,
  "metadata": {
    "colab": {
      "provenance": [],
      "collapsed_sections": [],
      "authorship_tag": "ABX9TyNTAl9sGbUf6lPkoykI8lQP"
    },
    "kernelspec": {
      "name": "python3",
      "display_name": "Python 3"
    },
    "language_info": {
      "name": "python"
    }
  },
  "cells": [
    {
      "cell_type": "code",
      "execution_count": 1,
      "metadata": {
        "colab": {
          "base_uri": "https://localhost:8080/"
        },
        "id": "N80F5RPuv7fJ",
        "outputId": "29c02b59-c588-4bd0-cfb7-859502d8b517"
      },
      "outputs": [
        {
          "output_type": "stream",
          "name": "stdout",
          "text": [
            "Looking in indexes: https://pypi.org/simple, https://us-python.pkg.dev/colab-wheels/public/simple/\n",
            "Collecting trueskill\n",
            "  Downloading trueskill-0.4.5.tar.gz (21 kB)\n",
            "Requirement already satisfied: six in /usr/local/lib/python3.7/dist-packages (from trueskill) (1.15.0)\n",
            "Building wheels for collected packages: trueskill\n",
            "  Building wheel for trueskill (setup.py) ... \u001b[?25l\u001b[?25hdone\n",
            "  Created wheel for trueskill: filename=trueskill-0.4.5-py3-none-any.whl size=18046 sha256=b6c56c07f9a01228bfaf244b237da05f04b8994fbff3981864936b8bc15d3fa1\n",
            "  Stored in directory: /root/.cache/pip/wheels/bf/cb/b7/441dde3542ccda9474afc6b53b81da197b0867e56e0dae7e09\n",
            "Successfully built trueskill\n",
            "Installing collected packages: trueskill\n",
            "Successfully installed trueskill-0.4.5\n",
            "Looking in indexes: https://pypi.org/simple, https://us-python.pkg.dev/colab-wheels/public/simple/\n",
            "Collecting trueskillthroughtime\n",
            "  Downloading trueskillthroughtime-1.0.0.tar.gz (16 kB)\n",
            "Building wheels for collected packages: trueskillthroughtime\n",
            "  Building wheel for trueskillthroughtime (setup.py) ... \u001b[?25l\u001b[?25hdone\n",
            "  Created wheel for trueskillthroughtime: filename=trueskillthroughtime-1.0.0-py3-none-any.whl size=12866 sha256=da5a5b36ba8378b980a2ee21d3e1f61cb08fb98f434bc24da22005120f91e962\n",
            "  Stored in directory: /root/.cache/pip/wheels/92/9c/a3/3957ff943d16583d78728cbc4fad728668447d7934ffd06a2a\n",
            "Successfully built trueskillthroughtime\n",
            "Installing collected packages: trueskillthroughtime\n",
            "Successfully installed trueskillthroughtime-1.0.0\n"
          ]
        }
      ],
      "source": [
        "!pip install trueskill\n",
        "!pip install trueskillthroughtime\n",
        "\n",
        "from collections import defaultdict\n",
        "from community import community_louvain\n",
        "from dataclasses import dataclass, field\n",
        "import datetime\n",
        "import itertools\n",
        "import math\n",
        "import networkx\n",
        "import pandas\n",
        "import random\n",
        "import trueskill\n",
        "import trueskillthroughtime as ttt\n",
        "from typing import List, Optional, Tuple, Union\n",
        "import urllib.request"
      ]
    },
    {
      "cell_type": "code",
      "source": [
        "Player = str\n",
        "SetResult = Tuple[int, int]\n",
        "TwoSets = Tuple[SetResult, SetResult]\n",
        "ThreeSets = Tuple[SetResult, SetResult, SetResult]\n",
        "MatchResult = Union[TwoSets, ThreeSets]\n",
        "\n",
        "@dataclass\n",
        "class Match:\n",
        "  date: datetime.date\n",
        "  home: Tuple[Player, Player]\n",
        "  away: Tuple[Player, Player]\n",
        "  score: MatchResult\n",
        "\n",
        "years = tuple([\n",
        "    eval(\n",
        "        urllib.request.urlopen(\n",
        "            f'https://raw.githubusercontent.com/travis-scholtens/trueskill-by-division/main/{year}.py'\n",
        "        ).read().decode('utf-8')\n",
        "    ) for year in (2018, 2019)\n",
        "])"
      ],
      "metadata": {
        "id": "0wGIRJLhwQkZ"
      },
      "execution_count": 3,
      "outputs": []
    },
    {
      "cell_type": "code",
      "source": [
        "home_won = lambda match: match.score[-1][0] > match.score[-1][1]\n",
        "\n",
        "def predicted_by(match_delta):\n",
        "  def predicted_outcome(match):\n",
        "    delta = match_delta(match)\n",
        "    if delta > 0:\n",
        "      return 1\n",
        "    if delta < 0:\n",
        "      return -1\n",
        "    return 0\n",
        "  return predicted_outcome\n",
        "\n",
        "def prediction_accuracy(matches, method, predicted_outcome):\n",
        "  def calculate():\n",
        "    correct = incorrect = total = 0\n",
        "    for match in matches:\n",
        "      predicted = predicted_outcome(match)\n",
        "      actual = 1 if home_won(match) else -1\n",
        "      if actual == predicted:\n",
        "        correct += 1\n",
        "      elif actual == -predicted:\n",
        "        incorrect += 1\n",
        "      total += 1\n",
        "    return (correct/total, incorrect/total, (correct + incorrect)/total, correct/incorrect)\n",
        "  (correct, incorrect, coverage, ratio) = calculate()\n",
        "  print(f'{method}: {correct:.4f} correct, {incorrect:.4f} incorrect, {coverage:.2f} coverage, {ratio:.2f} win/loss')\n",
        "  return correct\n",
        "\n",
        "@dataclass\n",
        "class HistoryInput:\n",
        "  home_victory = (1,0)\n",
        "  away_victory = (0,1)\n",
        "\n",
        "  dates: list = field(default_factory=list)\n",
        "  teams: list = field(default_factory=list)\n",
        "  results: list = field(default_factory=list)\n",
        "\n",
        "  def add(self, match):\n",
        "    self.dates.append(match.date.toordinal())\n",
        "    self.teams.append((match.home, match.away))\n",
        "    self.results.append(self.home_victory if home_won(match) else self.away_victory)"
      ],
      "metadata": {
        "id": "je1S1aXNUSw2"
      },
      "execution_count": 4,
      "outputs": []
    },
    {
      "cell_type": "code",
      "source": [
        "def opponent_pairs(matches):\n",
        "  edges = set()\n",
        "  for match in matches:\n",
        "    edges |= {tuple(sorted(ps)) for ps in itertools.product(match.home, match.away)}\n",
        "  return edges\n",
        "\n",
        "def partition(matches):\n",
        "  return community_louvain.best_partition(networkx.Graph(opponent_pairs(matches)))\n",
        "\n",
        "def filter_matches(matches, communities, predicate):\n",
        "   return [match for match in matches if predicate(match, communities)]\n",
        "\n",
        "new_players = lambda match, communities: (\n",
        "    any([player not in communities for player in match.home + match.away])\n",
        ")\n",
        "\n",
        "no_new_players = lambda match, communities: not new_players(match, communities)\n",
        "\n",
        "community_count = lambda match, communities: (\n",
        "    len({communities[player] for player in match.home + match.away})\n",
        ")\n",
        "\n",
        "intra = lambda match, communities: (\n",
        "    no_new_players(match, communities) and community_count(match, communities) == 1\n",
        ")\n",
        "\n",
        "inter = lambda match, communities: (\n",
        "    no_new_players(match, communities) and community_count(match, communities) > 1\n",
        ")\n",
        "\n",
        "communities = partition(years[0])\n",
        "\n",
        "subsets = [\n",
        "    ('all matches', lambda _, __: True),\n",
        "    ('with no new players', no_new_players),\n",
        "    ('intradivision', intra),\n",
        "    ('interdivision', inter),\n",
        "    ('with new players', new_players),\n",
        "]\n",
        "\n",
        "summary = pandas.DataFrame(data={\n",
        "    'Match population': [context for (context, _) in subsets],\n",
        "    'N': [len(filter_matches(years[1], communities, predicate)) for (_, predicate) in subsets],\n",
        "})\n",
        "\n",
        "def accuracy_by_match_type(matches, communities, rating_type, delta):\n",
        "  subset_success_rates = []\n",
        "  for (context, predicate) in subsets:\n",
        "    subset_success_rates.append(prediction_accuracy(filter_matches(matches, communities, predicate), f'{rating_type} ({context})', predicted_by(delta)))\n",
        "  summary[rating_type] = subset_success_rates\n",
        "\n",
        "print('\\n'.join([\n",
        "  (lambda count: f'{context}: {count} ({count/len(years[1]):.2f})')(len(filter_matches(years[1], communities, predicate)))\n",
        "  for (context, predicate) in subsets\n",
        "]))"
      ],
      "metadata": {
        "id": "-m9EpRPu4VE9",
        "colab": {
          "base_uri": "https://localhost:8080/"
        },
        "outputId": "2f65b11b-0cb7-4f84-acc5-32fcf358da37"
      },
      "execution_count": 5,
      "outputs": [
        {
          "output_type": "stream",
          "name": "stdout",
          "text": [
            "all matches: 2218 (1.00)\n",
            "with no new players: 1257 (0.57)\n",
            "intradivision: 814 (0.37)\n",
            "interdivision: 443 (0.20)\n",
            "with new players: 961 (0.43)\n"
          ]
        }
      ]
    },
    {
      "cell_type": "code",
      "source": [
        "def coin_flip_delta():\n",
        "  random.seed(420)\n",
        "  return lambda _: random.random() * 2 - 1\n",
        "\n",
        "accuracy_by_match_type(years[1], communities, 'Coin flip', coin_flip_delta())"
      ],
      "metadata": {
        "colab": {
          "base_uri": "https://localhost:8080/"
        },
        "id": "vyxIIyiOyPUZ",
        "outputId": "47e553da-3a25-422a-f800-f7c7f2fe3bae"
      },
      "execution_count": 6,
      "outputs": [
        {
          "output_type": "stream",
          "name": "stdout",
          "text": [
            "Coin flip (all matches): 0.4950 correct, 0.5050 incorrect, 1.00 coverage, 0.98 win/loss\n",
            "Coin flip (with no new players): 0.5044 correct, 0.4956 incorrect, 1.00 coverage, 1.02 win/loss\n",
            "Coin flip (intradivision): 0.4754 correct, 0.5246 incorrect, 1.00 coverage, 0.91 win/loss\n",
            "Coin flip (interdivision): 0.4628 correct, 0.5372 incorrect, 1.00 coverage, 0.86 win/loss\n",
            "Coin flip (with new players): 0.4839 correct, 0.5161 incorrect, 1.00 coverage, 0.94 win/loss\n"
          ]
        }
      ]
    },
    {
      "cell_type": "code",
      "source": [
        "def elo(matches):\n",
        "  elo = defaultdict(lambda: 1500)\n",
        "  scale = 400\n",
        "  k = 32\n",
        "\n",
        "  team_average = lambda team: sum([elo[player] for player in team])\n",
        "  expected = lambda rating_a, rating_b: 1/(1 + pow(10, (rating_b - rating_a)/scale))\n",
        "  next_rating = lambda last_rating, expected, actual: last_rating + k * (actual - expected)\n",
        "  for match in matches:\n",
        "    delta = team_average(match.home) - team_average(match.away)\n",
        "    expected = 1 if delta > 0 else -1 if delta < 0 else 0\n",
        "    actual = 1 if home_won(match) else -1\n",
        "    for player in match.home:\n",
        "      elo[player] = next_rating(elo[player], expected, actual)\n",
        "    for player in match.away:\n",
        "      elo[player] = next_rating(elo[player], -expected, -actual)\n",
        "  return {player: rating for (player, rating) in elo.items()}\n",
        "\n",
        "def elo_delta(elo):\n",
        "  team_average = lambda team: sum([elo[player] if player in elo else 1500 for player in team])\n",
        "  return lambda match: team_average(match.home) - team_average(match.away)\n",
        "\n",
        "accuracy_by_match_type(years[1], communities, 'Elo', elo_delta(elo(years[0])))"
      ],
      "metadata": {
        "colab": {
          "base_uri": "https://localhost:8080/"
        },
        "id": "kBVCrcqVuZg5",
        "outputId": "61784740-e3e7-480e-f788-684589567bf1"
      },
      "execution_count": 7,
      "outputs": [
        {
          "output_type": "stream",
          "name": "stdout",
          "text": [
            "Elo (all matches): 0.5532 correct, 0.3584 incorrect, 0.91 coverage, 1.54 win/loss\n",
            "Elo (with no new players): 0.5593 correct, 0.3691 incorrect, 0.93 coverage, 1.52 win/loss\n",
            "Elo (intradivision): 0.5590 correct, 0.3649 incorrect, 0.92 coverage, 1.53 win/loss\n",
            "Elo (interdivision): 0.5598 correct, 0.3770 incorrect, 0.94 coverage, 1.49 win/loss\n",
            "Elo (with new players): 0.5453 correct, 0.3444 incorrect, 0.89 coverage, 1.58 win/loss\n"
          ]
        }
      ]
    },
    {
      "cell_type": "code",
      "source": [
        "def win_percentages(matches):\n",
        "  wins_losses = defaultdict(lambda: [0,0])\n",
        "  for match in matches:\n",
        "    (winners, losers) = (match.home, match.away) if home_won(match) else (match.away, match.home)\n",
        "    for player in winners:\n",
        "      wins_losses[player][0] += 1\n",
        "    for player in losers:\n",
        "      wins_losses[player][1] += 1\n",
        "  return {player: wins/(wins + losses) for (player, (wins, losses)) in wins_losses.items()}\n",
        "\n",
        "def win_percentage_delta(percents):\n",
        "  team_average = lambda team: sum([percents[player] if player in percents else 0.5 for player in team])\n",
        "  return lambda match: team_average(match.home) - team_average(match.away)\n",
        "\n",
        "accuracy_by_match_type(years[1], communities, 'Win %',\n",
        "                       win_percentage_delta(win_percentages(years[0])))"
      ],
      "metadata": {
        "colab": {
          "base_uri": "https://localhost:8080/"
        },
        "id": "P9QKFeoBTIfV",
        "outputId": "be27d853-33b8-40ed-f941-00148f8522dd"
      },
      "execution_count": 8,
      "outputs": [
        {
          "output_type": "stream",
          "name": "stdout",
          "text": [
            "Win % (all matches): 0.5870 correct, 0.3999 incorrect, 0.99 coverage, 1.47 win/loss\n",
            "Win % (with no new players): 0.6006 correct, 0.3970 incorrect, 1.00 coverage, 1.51 win/loss\n",
            "Win % (intradivision): 0.6081 correct, 0.3894 incorrect, 1.00 coverage, 1.56 win/loss\n",
            "Win % (interdivision): 0.5869 correct, 0.4108 incorrect, 1.00 coverage, 1.43 win/loss\n",
            "Win % (with new players): 0.5692 correct, 0.4037 incorrect, 0.97 coverage, 1.41 win/loss\n"
          ]
        }
      ]
    },
    {
      "cell_type": "code",
      "source": [
        "MU = 0\n",
        "SIGMA = 4.6\n",
        "\n",
        "def true_skill(matches):\n",
        "  env = trueskill.TrueSkill(mu=MU, sigma=SIGMA, beta=0.43, tau=0.14, draw_probability=0)\n",
        "  skill = defaultdict(env.create_rating)\n",
        "  team_skills = lambda team: [skill[player] for player in team]\n",
        "  for match in matches:\n",
        "    teams = (match.home, match.away) if home_won(match) else (match.away, match.home)\n",
        "    new_ratings = env.rate([team_skills(team) for team in teams])\n",
        "    for (player, rating) in zip(teams[0] + teams[1], new_ratings[0] + new_ratings[1]):\n",
        "      skill[player] = rating\n",
        "  return {player: rating for (player, rating) in skill.items()}\n",
        "\n",
        "# Generic, will work for trueskill.Gaussian or ttt.Gaussian skills\n",
        "def distribution_delta(team_skill, match):\n",
        "  (home, away) = [team_skill(team) for team in (match.home, match.away)]\n",
        "  distribution = home.__class__(mu=home.mu - away.mu,\n",
        "                                sigma=math.sqrt(home.sigma**2 + away.sigma**2))\n",
        "  return distribution.mu/distribution.sigma\n",
        "  \n",
        "def true_skill_delta(skills):\n",
        "  team_skill = lambda team: trueskill.Gaussian(mu=sum([skills[player].mu if player in skills else MU for player in team]),\n",
        "                                               sigma=math.sqrt(sum([(skills[player].sigma if player in skills else SIGMA)**2 for player in team])))\n",
        "  return lambda match: distribution_delta(team_skill, match)\n",
        "\n",
        "accuracy_by_match_type(years[1], communities, 'TrueSkill', true_skill_delta(true_skill(years[0])))"
      ],
      "metadata": {
        "colab": {
          "base_uri": "https://localhost:8080/"
        },
        "id": "7fx87yz6kF6c",
        "outputId": "a7e3656f-7aef-4785-8ec9-bf4b569ec031"
      },
      "execution_count": 9,
      "outputs": [
        {
          "output_type": "stream",
          "name": "stdout",
          "text": [
            "TrueSkill (all matches): 0.6150 correct, 0.3819 incorrect, 1.00 coverage, 1.61 win/loss\n",
            "TrueSkill (with no new players): 0.6158 correct, 0.3842 incorrect, 1.00 coverage, 1.60 win/loss\n",
            "TrueSkill (intradivision): 0.6216 correct, 0.3784 incorrect, 1.00 coverage, 1.64 win/loss\n",
            "TrueSkill (interdivision): 0.6050 correct, 0.3950 incorrect, 1.00 coverage, 1.53 win/loss\n",
            "TrueSkill (with new players): 0.6139 correct, 0.3788 incorrect, 0.99 coverage, 1.62 win/loss\n"
          ]
        }
      ]
    },
    {
      "cell_type": "code",
      "source": [
        "def converge(input):\n",
        "  history = ttt.History(input.teams, input.results, input.dates, mu=MU, sigma=SIGMA, beta=0.43, gamma=0.014, p_draw=0)\n",
        "  history.convergence(epsilon=0.01, iterations=25)\n",
        "  return {player: curve[-1][1] for (player, curve) in history.learning_curves().items()}\n",
        "\n",
        "def true_skill_through_time(matches):\n",
        "  input = HistoryInput()\n",
        "  for match in matches:\n",
        "    input.add(match)\n",
        "  return converge(input)\n",
        "\n",
        "def true_skill_through_time_delta(skills):\n",
        "  team_skill = lambda team: sum([skills[player] if player in skills else ttt.Gaussian(mu=MU, sigma=SIGMA) for player in team], ttt.N00)\n",
        "  return lambda match: distribution_delta(team_skill, match)\n",
        "\n",
        "accuracy_by_match_type(years[1], communities, 'TS through time', true_skill_through_time_delta(true_skill_through_time(years[0])))"
      ],
      "metadata": {
        "colab": {
          "base_uri": "https://localhost:8080/"
        },
        "id": "hoU-LFv-P_y2",
        "outputId": "6849ff17-4fe5-46a2-a2cb-beccc647b44a"
      },
      "execution_count": 10,
      "outputs": [
        {
          "output_type": "stream",
          "name": "stdout",
          "text": [
            "Iteration =  0 , step =  (10.849392769919262, 3.5692857634228323)\n",
            "Iteration =  1 , step =  (3.26785705320606, 0.8641493301768199)\n",
            "Iteration =  2 , step =  (1.4084840561105314, 0.4246594277623785)\n",
            "Iteration =  3 , step =  (0.7204591295762279, 0.1680717223469439)\n",
            "Iteration =  4 , step =  (0.3722799402602337, 0.07745475121715462)\n",
            "Iteration =  5 , step =  (0.20893990162472065, 0.047465744608095495)\n",
            "Iteration =  6 , step =  (0.13847370808068638, 0.02729196544709911)\n",
            "Iteration =  7 , step =  (0.100969471891724, 0.017609991627471233)\n",
            "Iteration =  8 , step =  (0.07689646340249823, 0.012098357981848107)\n",
            "Iteration =  9 , step =  (0.06131814934513535, 0.009639475470850645)\n",
            "Iteration =  10 , step =  (0.05187435237429083, 0.008389617059252785)\n",
            "Iteration =  11 , step =  (0.04447477697874325, 0.007357868862220229)\n",
            "Iteration =  12 , step =  (0.03871706022723398, 0.006428134505915839)\n",
            "Iteration =  13 , step =  (0.03444726018883415, 0.005605116709056723)\n",
            "Iteration =  14 , step =  (0.03042495339175577, 0.004882747215619432)\n",
            "Iteration =  15 , step =  (0.026744517987137506, 0.004263566808523134)\n",
            "Iteration =  16 , step =  (0.023436896040887056, 0.0037425030587039387)\n",
            "Iteration =  17 , step =  (0.02049807851400054, 0.0032865286519996317)\n",
            "Iteration =  18 , step =  (0.017906370581274977, 0.0028870237583982217)\n",
            "Iteration =  19 , step =  (0.015632020726709328, 0.0025366875198868932)\n",
            "Iteration =  20 , step =  (0.013642677551794158, 0.0022292660786202845)\n",
            "Iteration =  21 , step =  (0.011906328984988335, 0.0019593626854863544)\n",
            "Iteration =  22 , step =  (0.010392831822520598, 0.0017222997553303365)\n",
            "Iteration =  23 , step =  (0.009074617306017885, 0.0015140103826141171)\n",
            "End\n",
            "TS through time (all matches): 0.6145 correct, 0.3823 incorrect, 1.00 coverage, 1.61 win/loss\n",
            "TS through time (with no new players): 0.6261 correct, 0.3739 incorrect, 1.00 coverage, 1.67 win/loss\n",
            "TS through time (intradivision): 0.6241 correct, 0.3759 incorrect, 1.00 coverage, 1.66 win/loss\n",
            "TS through time (interdivision): 0.6298 correct, 0.3702 incorrect, 1.00 coverage, 1.70 win/loss\n",
            "TS through time (with new players): 0.5994 correct, 0.3933 incorrect, 0.99 coverage, 1.52 win/loss\n"
          ]
        }
      ]
    },
    {
      "cell_type": "code",
      "source": [
        "def community_skill(matches, communities):\n",
        "  inputs = defaultdict(HistoryInput)\n",
        "  for match in matches:\n",
        "    for community in {communities[player] for player in match.home + match.away}:\n",
        "      inputs[community].add(match)\n",
        "  return {community: converge(input) for (community, input) in inputs.items()}\n",
        "\n",
        "def community_skill_delta(communities, community_skills):\n",
        "  team_skill = lambda community, team: sum([\n",
        "      community_skills[community][player]\n",
        "      if player in community_skills[community] else ttt.Gaussian(mu=MU, sigma=SIGMA)\n",
        "      for player in team], ttt.N00)\n",
        "\n",
        "  def delta(match):\n",
        "    match_community_counts = defaultdict(lambda: 0)\n",
        "    for player in match.home + match.away:\n",
        "      if player in communities:\n",
        "        match_community_counts[communities[player]] += 1\n",
        "    if not match_community_counts:\n",
        "      return 0\n",
        "\n",
        "    best_community = max(match_community_counts, key=match_community_counts.get)\n",
        "    return distribution_delta(lambda team: team_skill(best_community, team), match)\n",
        "\n",
        "  return delta\n",
        "\n",
        "community_skills = community_skill(years[0], communities)\n",
        "accuracy_by_match_type(years[1], communities, 'Division TTT',\n",
        "                       community_skill_delta(communities, community_skills))"
      ],
      "metadata": {
        "colab": {
          "base_uri": "https://localhost:8080/"
        },
        "id": "DOmuYaQ6WC_w",
        "outputId": "28e956b8-7624-49ed-afd3-c4369d5626b7"
      },
      "execution_count": 11,
      "outputs": [
        {
          "output_type": "stream",
          "name": "stdout",
          "text": [
            "Iteration =  0 , step =  (7.931065952438894, 3.4640557535208174)\n",
            "Iteration =  1 , step =  (2.1325658708075164, 0.696441882960565)\n",
            "Iteration =  2 , step =  (0.9967628825729886, 0.25711734911136164)\n",
            "Iteration =  3 , step =  (0.3276960836602152, 0.07669905068650129)\n",
            "Iteration =  4 , step =  (0.1705369845098274, 0.03237069759231348)\n",
            "Iteration =  5 , step =  (0.08392163982337131, 0.013360584808889797)\n",
            "Iteration =  6 , step =  (0.05931240718359465, 0.00773350572116982)\n",
            "Iteration =  7 , step =  (0.040631760539157624, 0.006066303449021593)\n",
            "Iteration =  8 , step =  (0.02829595267187668, 0.004111473170326008)\n",
            "Iteration =  9 , step =  (0.01995111133024996, 0.002829797030828196)\n",
            "Iteration =  10 , step =  (0.014762331988272592, 0.001898471960320336)\n",
            "Iteration =  11 , step =  (0.011320936617289834, 0.0015010129189856336)\n",
            "Iteration =  12 , step =  (0.008983443902709998, 0.0014396829073057837)\n",
            "End\n",
            "Iteration =  0 , step =  (8.876023638732262, 3.550631568230337)\n",
            "Iteration =  1 , step =  (3.379809070264352, 0.7078049870026808)\n",
            "Iteration =  2 , step =  (1.2943642567174054, 0.30041521906316593)\n",
            "Iteration =  3 , step =  (0.6237267967570039, 0.14108546926819665)\n",
            "Iteration =  4 , step =  (0.29690738159140917, 0.08222127063849305)\n",
            "Iteration =  5 , step =  (0.1834287972704507, 0.04106396087629949)\n",
            "Iteration =  6 , step =  (0.10138879865539252, 0.026011123738420405)\n",
            "Iteration =  7 , step =  (0.06442494630752016, 0.01613734519514276)\n",
            "Iteration =  8 , step =  (0.04356742457967666, 0.01034386129572673)\n",
            "Iteration =  9 , step =  (0.03117302632707286, 0.006690357453765117)\n",
            "Iteration =  10 , step =  (0.023510261855405723, 0.004398470768742113)\n",
            "Iteration =  11 , step =  (0.01863076563068855, 0.0029797241218265658)\n",
            "Iteration =  12 , step =  (0.015427497993993455, 0.002357798663620958)\n",
            "Iteration =  13 , step =  (0.013250854942818968, 0.002025059188835332)\n",
            "Iteration =  14 , step =  (0.01170993539332077, 0.001788230710034533)\n",
            "Iteration =  15 , step =  (0.010567846150121518, 0.0016125272387421674)\n",
            "Iteration =  16 , step =  (0.00968013652674049, 0.001501222972601468)\n",
            "End\n",
            "Iteration =  0 , step =  (11.037044057825618, 3.474127120117237)\n",
            "Iteration =  1 , step =  (2.530168241050547, 0.6791963809515142)\n",
            "Iteration =  2 , step =  (1.1994959435661219, 0.22764784995603704)\n",
            "Iteration =  3 , step =  (0.45649455407910655, 0.13106569377264532)\n",
            "Iteration =  4 , step =  (0.2502204400312831, 0.07949571835133096)\n",
            "Iteration =  5 , step =  (0.15072393144369656, 0.050839538927417216)\n",
            "Iteration =  6 , step =  (0.07904505668981443, 0.028537291544875387)\n",
            "Iteration =  7 , step =  (0.04101238219476144, 0.01638620855774464)\n",
            "Iteration =  8 , step =  (0.028653920304476443, 0.009349340052743571)\n",
            "Iteration =  9 , step =  (0.02101157507599849, 0.005694250082233676)\n",
            "Iteration =  10 , step =  (0.01622420871616459, 0.0036023008299033155)\n",
            "Iteration =  11 , step =  (0.01334826180342441, 0.0025070370760986727)\n",
            "Iteration =  12 , step =  (0.011223646633529594, 0.0019732715328433237)\n",
            "Iteration =  13 , step =  (0.009621853014284198, 0.001605092028313937)\n",
            "End\n",
            "Iteration =  0 , step =  (9.38616166248417, 3.4227915627394716)\n",
            "Iteration =  1 , step =  (2.5180929395224334, 0.8514815966351168)\n",
            "Iteration =  2 , step =  (1.155541785375012, 0.38991598240475644)\n",
            "Iteration =  3 , step =  (0.46254526937397955, 0.16831763691051105)\n",
            "Iteration =  4 , step =  (0.22910813795257856, 0.06725244274334807)\n",
            "Iteration =  5 , step =  (0.13120766994985456, 0.028260974728479216)\n",
            "Iteration =  6 , step =  (0.07024145592873765, 0.014013523373636039)\n",
            "Iteration =  7 , step =  (0.03762193767540545, 0.0060469310630961726)\n",
            "Iteration =  8 , step =  (0.019954734792344553, 0.0029842942233635483)\n",
            "Iteration =  9 , step =  (0.010660264371021633, 0.001618867637268817)\n",
            "Iteration =  10 , step =  (0.005546376389188978, 0.0008931481698559729)\n",
            "End\n",
            "Division TTT (all matches): 0.6195 correct, 0.3774 incorrect, 1.00 coverage, 1.64 win/loss\n",
            "Division TTT (with no new players): 0.6269 correct, 0.3731 incorrect, 1.00 coverage, 1.68 win/loss\n",
            "Division TTT (intradivision): 0.6290 correct, 0.3710 incorrect, 1.00 coverage, 1.70 win/loss\n",
            "Division TTT (interdivision): 0.6230 correct, 0.3770 incorrect, 1.00 coverage, 1.65 win/loss\n",
            "Division TTT (with new players): 0.6098 correct, 0.3829 incorrect, 0.99 coverage, 1.59 win/loss\n"
          ]
        }
      ]
    },
    {
      "cell_type": "code",
      "source": [
        "def mean_skill(skills):\n",
        "  return ttt.Gaussian(mu=sum([s.mu for s in skills])/len(skills),\n",
        "                      sigma=math.sqrt(sum([s.sigma**2 for s in skills]))/len(skills))\n",
        "\n",
        "def mean_skill_difference(from_skills, to_skills):\n",
        "  if from_skills == to_skills:\n",
        "    return ttt.N00\n",
        "  overlap = set(from_skills) & set(to_skills)\n",
        "  if not overlap:\n",
        "    return None\n",
        "  from_mean = mean_skill([from_skills[p] for p in overlap])\n",
        "  to_mean = mean_skill([to_skills[p] for p in overlap])\n",
        "  return from_mean - to_mean\n",
        "\n",
        "def inter_community_conversions(community_values, community_skills):\n",
        "  return {\n",
        "    (from_community, to_community): mean_skill_difference(community_skills[from_community], community_skills[to_community])\n",
        "    for (from_community, to_community)\n",
        "    in itertools.product(community_values, community_values)\n",
        "  }\n",
        "\n",
        "def inter_community_skill_delta(communities, community_skills, conversions):\n",
        "  team_skill = lambda community, team: sum(\n",
        "      [community_skills[communities[player]][player] - conversions[(communities[player], community)]\n",
        "       if player in communities else ttt.Gaussian(mu=MU, sigma=SIGMA)\n",
        "       for player in team], ttt.N00)\n",
        "  def delta(match):\n",
        "    match_community_counts = defaultdict(lambda: 0)\n",
        "    for player in match.home + match.away:\n",
        "      if player in communities:\n",
        "        match_community_counts[communities[player]] += 1\n",
        "    if not match_community_counts:\n",
        "      return 0\n",
        "\n",
        "    best_community = max(match_community_counts, key=match_community_counts.get)\n",
        "    return distribution_delta(lambda team: team_skill(best_community, team), match)\n",
        "  return delta\n",
        "\n",
        "accuracy_by_match_type(years[1], communities, 'Division TTT + conversion',\n",
        "                       inter_community_skill_delta(communities, community_skills, inter_community_conversions(set(communities.values()), community_skills)))"
      ],
      "metadata": {
        "id": "lD6t27fCfKTC",
        "colab": {
          "base_uri": "https://localhost:8080/"
        },
        "outputId": "1de53551-8ddf-49b3-92b5-e047b997b363"
      },
      "execution_count": 12,
      "outputs": [
        {
          "output_type": "stream",
          "name": "stdout",
          "text": [
            "Division TTT + conversion (all matches): 0.6312 correct, 0.3656 incorrect, 1.00 coverage, 1.73 win/loss\n",
            "Division TTT + conversion (with no new players): 0.6420 correct, 0.3580 incorrect, 1.00 coverage, 1.79 win/loss\n",
            "Division TTT + conversion (intradivision): 0.6290 correct, 0.3710 incorrect, 1.00 coverage, 1.70 win/loss\n",
            "Division TTT + conversion (interdivision): 0.6659 correct, 0.3341 incorrect, 1.00 coverage, 1.99 win/loss\n",
            "Division TTT + conversion (with new players): 0.6171 correct, 0.3757 incorrect, 0.99 coverage, 1.64 win/loss\n"
          ]
        }
      ]
    },
    {
      "cell_type": "code",
      "source": [
        "(summary.style\n",
        "    .hide_index()\n",
        "    .highlight_max(axis=1,\n",
        "                   subset=summary.columns[2:-2],\n",
        "                   props={'font-style': 'italic'}.items())\n",
        "    .highlight_max(axis=1,\n",
        "                   subset=summary.columns[2:],\n",
        "                   props={'font-weight': 'bold'}.items())\n",
        "    .format(precision=4)\n",
        ")"
      ],
      "metadata": {
        "colab": {
          "base_uri": "https://localhost:8080/",
          "height": 241
        },
        "id": "4FOwZm03y929",
        "outputId": "a72e4900-90c9-45dd-dc5a-fe67440bb5c4"
      },
      "execution_count": 13,
      "outputs": [
        {
          "output_type": "execute_result",
          "data": {
            "text/plain": [
              "<pandas.io.formats.style.Styler at 0x7f87be919310>"
            ],
            "text/html": [
              "<style type=\"text/css\">\n",
              "#T_3564f_row0_col5, #T_3564f_row1_col6, #T_3564f_row2_col6, #T_3564f_row3_col6, #T_3564f_row4_col5 {\n",
              "  font-style: italic;\n",
              "}\n",
              "#T_3564f_row0_col8, #T_3564f_row1_col8, #T_3564f_row2_col7, #T_3564f_row2_col8, #T_3564f_row3_col8, #T_3564f_row4_col8 {\n",
              "  font-weight: bold;\n",
              "}\n",
              "</style>\n",
              "<table id=\"T_3564f_\" class=\"dataframe\">\n",
              "  <thead>\n",
              "    <tr>\n",
              "      <th class=\"col_heading level0 col0\" >Match population</th>\n",
              "      <th class=\"col_heading level0 col1\" >N</th>\n",
              "      <th class=\"col_heading level0 col2\" >Coin flip</th>\n",
              "      <th class=\"col_heading level0 col3\" >Elo</th>\n",
              "      <th class=\"col_heading level0 col4\" >Win %</th>\n",
              "      <th class=\"col_heading level0 col5\" >TrueSkill</th>\n",
              "      <th class=\"col_heading level0 col6\" >TS through time</th>\n",
              "      <th class=\"col_heading level0 col7\" >Division TTT</th>\n",
              "      <th class=\"col_heading level0 col8\" >Division TTT + conversion</th>\n",
              "    </tr>\n",
              "  </thead>\n",
              "  <tbody>\n",
              "    <tr>\n",
              "      <td id=\"T_3564f_row0_col0\" class=\"data row0 col0\" >all matches</td>\n",
              "      <td id=\"T_3564f_row0_col1\" class=\"data row0 col1\" >2218</td>\n",
              "      <td id=\"T_3564f_row0_col2\" class=\"data row0 col2\" >0.4950</td>\n",
              "      <td id=\"T_3564f_row0_col3\" class=\"data row0 col3\" >0.5532</td>\n",
              "      <td id=\"T_3564f_row0_col4\" class=\"data row0 col4\" >0.5870</td>\n",
              "      <td id=\"T_3564f_row0_col5\" class=\"data row0 col5\" >0.6150</td>\n",
              "      <td id=\"T_3564f_row0_col6\" class=\"data row0 col6\" >0.6145</td>\n",
              "      <td id=\"T_3564f_row0_col7\" class=\"data row0 col7\" >0.6195</td>\n",
              "      <td id=\"T_3564f_row0_col8\" class=\"data row0 col8\" >0.6312</td>\n",
              "    </tr>\n",
              "    <tr>\n",
              "      <td id=\"T_3564f_row1_col0\" class=\"data row1 col0\" >with no new players</td>\n",
              "      <td id=\"T_3564f_row1_col1\" class=\"data row1 col1\" >1257</td>\n",
              "      <td id=\"T_3564f_row1_col2\" class=\"data row1 col2\" >0.5044</td>\n",
              "      <td id=\"T_3564f_row1_col3\" class=\"data row1 col3\" >0.5593</td>\n",
              "      <td id=\"T_3564f_row1_col4\" class=\"data row1 col4\" >0.6006</td>\n",
              "      <td id=\"T_3564f_row1_col5\" class=\"data row1 col5\" >0.6158</td>\n",
              "      <td id=\"T_3564f_row1_col6\" class=\"data row1 col6\" >0.6261</td>\n",
              "      <td id=\"T_3564f_row1_col7\" class=\"data row1 col7\" >0.6269</td>\n",
              "      <td id=\"T_3564f_row1_col8\" class=\"data row1 col8\" >0.6420</td>\n",
              "    </tr>\n",
              "    <tr>\n",
              "      <td id=\"T_3564f_row2_col0\" class=\"data row2 col0\" >intradivision</td>\n",
              "      <td id=\"T_3564f_row2_col1\" class=\"data row2 col1\" >814</td>\n",
              "      <td id=\"T_3564f_row2_col2\" class=\"data row2 col2\" >0.4754</td>\n",
              "      <td id=\"T_3564f_row2_col3\" class=\"data row2 col3\" >0.5590</td>\n",
              "      <td id=\"T_3564f_row2_col4\" class=\"data row2 col4\" >0.6081</td>\n",
              "      <td id=\"T_3564f_row2_col5\" class=\"data row2 col5\" >0.6216</td>\n",
              "      <td id=\"T_3564f_row2_col6\" class=\"data row2 col6\" >0.6241</td>\n",
              "      <td id=\"T_3564f_row2_col7\" class=\"data row2 col7\" >0.6290</td>\n",
              "      <td id=\"T_3564f_row2_col8\" class=\"data row2 col8\" >0.6290</td>\n",
              "    </tr>\n",
              "    <tr>\n",
              "      <td id=\"T_3564f_row3_col0\" class=\"data row3 col0\" >interdivision</td>\n",
              "      <td id=\"T_3564f_row3_col1\" class=\"data row3 col1\" >443</td>\n",
              "      <td id=\"T_3564f_row3_col2\" class=\"data row3 col2\" >0.4628</td>\n",
              "      <td id=\"T_3564f_row3_col3\" class=\"data row3 col3\" >0.5598</td>\n",
              "      <td id=\"T_3564f_row3_col4\" class=\"data row3 col4\" >0.5869</td>\n",
              "      <td id=\"T_3564f_row3_col5\" class=\"data row3 col5\" >0.6050</td>\n",
              "      <td id=\"T_3564f_row3_col6\" class=\"data row3 col6\" >0.6298</td>\n",
              "      <td id=\"T_3564f_row3_col7\" class=\"data row3 col7\" >0.6230</td>\n",
              "      <td id=\"T_3564f_row3_col8\" class=\"data row3 col8\" >0.6659</td>\n",
              "    </tr>\n",
              "    <tr>\n",
              "      <td id=\"T_3564f_row4_col0\" class=\"data row4 col0\" >with new players</td>\n",
              "      <td id=\"T_3564f_row4_col1\" class=\"data row4 col1\" >961</td>\n",
              "      <td id=\"T_3564f_row4_col2\" class=\"data row4 col2\" >0.4839</td>\n",
              "      <td id=\"T_3564f_row4_col3\" class=\"data row4 col3\" >0.5453</td>\n",
              "      <td id=\"T_3564f_row4_col4\" class=\"data row4 col4\" >0.5692</td>\n",
              "      <td id=\"T_3564f_row4_col5\" class=\"data row4 col5\" >0.6139</td>\n",
              "      <td id=\"T_3564f_row4_col6\" class=\"data row4 col6\" >0.5994</td>\n",
              "      <td id=\"T_3564f_row4_col7\" class=\"data row4 col7\" >0.6098</td>\n",
              "      <td id=\"T_3564f_row4_col8\" class=\"data row4 col8\" >0.6171</td>\n",
              "    </tr>\n",
              "  </tbody>\n",
              "</table>\n"
            ]
          },
          "metadata": {},
          "execution_count": 13
        }
      ]
    }
  ]
}